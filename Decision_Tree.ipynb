{
  "nbformat": 4,
  "nbformat_minor": 0,
  "metadata": {
    "colab": {
      "provenance": []
    },
    "kernelspec": {
      "name": "python3",
      "display_name": "Python 3"
    },
    "language_info": {
      "name": "python"
    }
  },
  "cells": [
    {
      "cell_type": "markdown",
      "source": [
        "THEORY"
      ],
      "metadata": {
        "id": "JC4nfVSGzvLm"
      }
    },
    {
      "cell_type": "markdown",
      "source": [
        "Q1. What is a Decision Tree, and how does it work?\n",
        "ANS:- A Decision Tree is a supervised learning algorithm used for classification and regression. It works by splitting the dataset into smaller subsets based on feature conditions, forming a tree-like structure. Each node represents a decision rule, branches represent outcomes, and leaf nodes contain the final predictions.\n"
      ],
      "metadata": {
        "id": "w8pCnCI9sAz1"
      }
    },
    {
      "cell_type": "markdown",
      "source": [
        "Q2. What are impurity measures in Decision Trees?\n",
        "Ans:- Impurity measures determine how well a decision tree splits the data. Common impurity measures include:\n",
        "Gini Impurity = Measures the probability of incorrectly classifying a random sample=\n",
        "Entropy =Measures the amount of randomness (uncertainty) in the dataset=\n",
        " Mean Squared Error (MSE) = Used for regression trees to measure variance reduction.\n"
      ],
      "metadata": {
        "id": "Yl5Mw17PsH71"
      }
    },
    {
      "cell_type": "markdown",
      "source": [
        "Q3. What is the mathematical formula for Gini Impurity?\n",
        "Ans:-The Gini Impurity for a node with classes ii is given by:\n",
        "                Gini=1−i=1∑npi2\n",
        "where pip_i is the proportion of class ii instances in the node.\n"
      ],
      "metadata": {
        "id": "tjJu7tkasNsC"
      }
    },
    {
      "cell_type": "markdown",
      "source": [
        "Q4. What is the mathematical formula for Entropy?\n",
        "Ans:- Entropy measures uncertainty and is defined as:\n",
        "H(X)=−i=1∑nP(xi)logbP(xi)\n",
        "where pip_i is the proportion of instances belonging to class ii.\n"
      ],
      "metadata": {
        "id": "lIt3Dodoz1Zn"
      }
    },
    {
      "cell_type": "markdown",
      "source": [
        "Q5. What is Information Gain, and how is it used in Decision Trees?\n",
        "Ans:- Information Gain (IG) measures the reduction in entropy after a dataset is split. It is calculated as:\n",
        "Information Gain=H(S)−i=1∑k∣S∣∣Si∣H(Si)\n",
        "where NN is the total number of samples, and nkn_k is the number of samples in the child node. A higher IG indicates a better split.\n"
      ],
      "metadata": {
        "id": "RfMFjM5k0bQo"
      }
    },
    {
      "cell_type": "markdown",
      "source": [
        "Q6. What is the difference between Gini Impurity and Entropy?\n",
        "Gini Impurity\n",
        "1.\tMeasures impurity based on squared probabilities\n",
        "2.\tFaster to compute\n",
        "3.\tPreferred in CART algorithm\n",
        "Entropy\n",
        "1.\tMeasures impurity using logarithms\n",
        "2.\tMore informative for probability distribution\n",
        "3.\tUsed in ID3 algorithm\n"
      ],
      "metadata": {
        "id": "B5poT2B_0fUW"
      }
    },
    {
      "cell_type": "markdown",
      "source": [
        "Q7. What is the mathematical explanation behind Decision Trees?\n",
        "Ans:- Decision Trees use a recursive approach to:\n",
        "1.\tCalculate impurity (Gini/Entropy/MSE) at each split„\n",
        "2.\tFind the best split that maximizes Information Gain„\n",
        "3.\tContinue splitting until stopping conditions are met (e.g., max depth, min samples per leaf)„\n",
        "4.\t Make a final prediction at leaf nodes based on majority class (classification) or mean value (regression)\n"
      ],
      "metadata": {
        "id": "97UCTTUE0jP6"
      }
    },
    {
      "cell_type": "markdown",
      "source": [
        "Q8. What is Pre-Pruning in Decision Trees?\n",
        "Ans: Pre-Pruning stops the tree from growing beyond a certain depth to prevent overfitting.     Common techniques include:\n",
        "1.\t Setting max_depth (limits the number of levels)„\n",
        "2.\tDefining min_samples_split (minimum samples needed to split a node)„\n",
        "3.\t Using min_samples_leaf (minimum samples required in a leaf node).\n"
      ],
      "metadata": {
        "id": "VfWbiIBX0m0l"
      }
    },
    {
      "cell_type": "markdown",
      "source": [
        "Q9. What is Post-Pruning in Decision Trees?\n",
        "Ans:- Post-Pruning reduces the size of a fully grown tree by removing nodes that do not significantly improve performance. Techniques include:-\n",
        "1.\tCost Complexity Pruning (CCP) → Uses a penalty term for tree size\n",
        "2.\t Error-Based Pruning → Removes nodes if validation error increases.\n"
      ],
      "metadata": {
        "id": "mJcYSJxY0p56"
      }
    },
    {
      "cell_type": "markdown",
      "source": [
        "Q10. What is the difference between Pre-Pruning and Post-Pruning?\n",
        "Pre-Pruning\n",
        "1.\tStops tree growth early\n",
        "2.\tPrevents overfitting\n",
        "3.\tNeeds prior assumptions (depth, min samples)\n",
        "Post-Pruning\n",
        "1.\tGrows tree fully, then reduces size\n",
        "2.\tImproves generalization\n",
        "3.\tUses validation data for pruning decisions\n"
      ],
      "metadata": {
        "id": "rQ2GwdYi0v9a"
      }
    },
    {
      "cell_type": "markdown",
      "source": [
        "Q11. What is a Decision Tree Regressor?\n",
        "Ans:- A Decision Tree Regressor is used for regression tasks. Instead of classifying, it predicts continuous values by:\n",
        "1.\tSplitting data based on variance reduction (instead of Gini/Entropy)„\n",
        "2.\t Assigning mean target value to each leaf node„\n",
        "3.\tUsing Mean Squared Error (MSE) to evaluate splits.\n"
      ],
      "metadata": {
        "id": "wME8-nQo0w0Q"
      }
    },
    {
      "cell_type": "markdown",
      "source": [
        "Q12. What are the advantages and disadvantages of Decision Trees?\n",
        "Advantages\n",
        "1.\tSimple to understand and interpret„\n",
        "2.\t Handles both classification and regression„\n",
        "3.\t Works well with both numerical and categorical data.\n",
        "Disadvantages\n",
        "1.\tProne to overfitting without pruning.\n",
        "2.\t Sensitive to small changes in data.\n",
        "3.\t Can create imbalanced splits, leading to biased models.\n"
      ],
      "metadata": {
        "id": "3QLYK5Sq0zj4"
      }
    },
    {
      "cell_type": "markdown",
      "source": [
        "Q13. How does a Decision Tree handle missing values?\n",
        "Äns:- Decision Trees handle missing values by:\n",
        "1.\t Ignoring missing values during split calculations.\n",
        "2.\t Using surrogate splits (alternative features to make decisions).\n",
        "3.\t Imputing missing values (e.g., replacing with median or mode).\n"
      ],
      "metadata": {
        "id": "FP27KU_s02NY"
      }
    },
    {
      "cell_type": "markdown",
      "source": [
        "Q14. How does a Decision Tree handle categorical features?\n",
        "Ans:- Decision Trees handle categorical features by:\n",
        "1.\t One-Hot Encoding → Converts categories into binary variables (0/1)ª\n",
        "2.\t Label Encoding → Assigns numerical values to categoriesª3.\n",
        "3.\t Using categorical splits (in some implementations like C4.5 and CHAID) to decide based on category frequency.\n"
      ],
      "metadata": {
        "id": "niaKgT9d044i"
      }
    },
    {
      "cell_type": "markdown",
      "source": [
        "Q15. What are some real-world applications of Decision Trees?\n",
        "1.\t Healthcare → Disease prediction (e.g., cancer detection)ª\n",
        "2.\t Finance → Credit risk assessment, fraud detectionª\n",
        "3.\t Marketing → Customer segmentation and targeted advertisingª\n",
        "4.\tManufacturing → Defect detection, process optimizationª\n",
        "5.\t Retail → Recommendation systems, inventory management.\n",
        "\n"
      ],
      "metadata": {
        "id": "mExvJ5pk0785"
      }
    },
    {
      "cell_type": "markdown",
      "source": [
        "PRACTICAL"
      ],
      "metadata": {
        "id": "Sw6c8kIGsTE8"
      }
    },
    {
      "cell_type": "markdown",
      "source": [
        "16. Write a Python program to train a Decision Tree Classifier on the Iris dataset and print the model accuracy."
      ],
      "metadata": {
        "id": "nX42sWinw5LE"
      }
    },
    {
      "cell_type": "code",
      "source": [
        "import pandas as pd\n",
        "from sklearn.model_selection import train_test_split\n",
        "from sklearn.tree import DecisionTreeClassifier\n",
        "from sklearn.metrics import accuracy_score\n",
        "from sklearn.datasets import load_iris\n",
        "\n",
        "# Load dataset\n",
        "data = load_iris()\n",
        "X = pd.DataFrame(data.data, columns=data.feature_names)\n",
        "y = pd.Series(data.target)\n",
        "\n",
        "# Split dataset\n",
        "X_train, X_test, y_train, y_test = train_test_split(X, y, test_size=0.2, random_state=42)\n",
        "\n",
        "# Train Decision Tree Classifier\n",
        "model = DecisionTreeClassifier()\n",
        "model.fit(X_train, y_train)\n",
        "\n",
        "# Predict and print accuracy\n",
        "predictions = model.predict(X_test)\n",
        "print(\"Decision Tree Classifier Accuracy:\", accuracy_score(y_test, predictions))\n"
      ],
      "metadata": {
        "colab": {
          "base_uri": "https://localhost:8080/"
        },
        "id": "tih0XV3Vw8Ux",
        "outputId": "b8bdf5f2-6fd4-42ff-bca0-979cb8cb0490"
      },
      "execution_count": 1,
      "outputs": [
        {
          "output_type": "stream",
          "name": "stdout",
          "text": [
            "Decision Tree Classifier Accuracy: 1.0\n"
          ]
        }
      ]
    },
    {
      "cell_type": "markdown",
      "source": [
        "17. Write a Python program to train a Decision Tree Classifier using Gini Impurity as the criterion and print the feature importances."
      ],
      "metadata": {
        "id": "HhuaeRVexL7g"
      }
    },
    {
      "cell_type": "code",
      "source": [
        "import pandas as pd\n",
        "from sklearn.model_selection import train_test_split\n",
        "from sklearn.tree import DecisionTreeClassifier\n",
        "from sklearn.datasets import load_wine\n",
        "\n",
        "# Load dataset\n",
        "data = load_wine()\n",
        "X = pd.DataFrame(data.data, columns=data.feature_names)\n",
        "y = pd.Series(data.target)\n",
        "\n",
        "# Split dataset\n",
        "X_train, X_test, y_train, y_test = train_test_split(X, y, test_size=0.2, random_state=42)\n",
        "\n",
        "# Train Decision Tree with Gini Impurity\n",
        "model = DecisionTreeClassifier(criterion='gini')\n",
        "model.fit(X_train, y_train)\n",
        "\n",
        "# Print feature importances\n",
        "print(\"Feature Importances:\", model.feature_importances_)\n"
      ],
      "metadata": {
        "colab": {
          "base_uri": "https://localhost:8080/"
        },
        "id": "upvwGdKGxQWO",
        "outputId": "794c3dbc-ee6b-45ac-8eb7-1639915485e8"
      },
      "execution_count": 2,
      "outputs": [
        {
          "output_type": "stream",
          "name": "stdout",
          "text": [
            "Feature Importances: [0.01899507 0.         0.02094206 0.         0.         0.\n",
            " 0.41105326 0.         0.         0.38493424 0.         0.\n",
            " 0.16407537]\n"
          ]
        }
      ]
    },
    {
      "cell_type": "markdown",
      "source": [
        "18. Write a Python program to train a Decision Tree Classifier using Entropy as the splitting criterion and print the model accuracy."
      ],
      "metadata": {
        "id": "OW4G7NFjxTw6"
      }
    },
    {
      "cell_type": "code",
      "source": [
        "import pandas as pd\n",
        "from sklearn.model_selection import train_test_split\n",
        "from sklearn.tree import DecisionTreeClassifier\n",
        "from sklearn.metrics import accuracy_score\n",
        "from sklearn.datasets import load_breast_cancer\n",
        "\n",
        "# Load dataset\n",
        "data = load_breast_cancer()\n",
        "X = pd.DataFrame(data.data, columns=data.feature_names)\n",
        "y = pd.Series(data.target)\n",
        "\n",
        "# Split dataset\n",
        "X_train, X_test, y_train, y_test = train_test_split(X, y, test_size=0.2, random_state=42)\n",
        "\n",
        "# Train Decision Tree with Entropy\n",
        "model = DecisionTreeClassifier(criterion='entropy')\n",
        "model.fit(X_train, y_train)\n",
        "\n",
        "# Predict and print accuracy\n",
        "predictions = model.predict(X_test)\n",
        "print(\"Decision Tree Classifier Accuracy with Entropy:\", accuracy_score(y_test, predictions))\n"
      ],
      "metadata": {
        "colab": {
          "base_uri": "https://localhost:8080/"
        },
        "id": "RlFITEsQxWB-",
        "outputId": "f80c4eeb-c9f9-4df6-dfb1-361e3c95f356"
      },
      "execution_count": 3,
      "outputs": [
        {
          "output_type": "stream",
          "name": "stdout",
          "text": [
            "Decision Tree Classifier Accuracy with Entropy: 0.9385964912280702\n"
          ]
        }
      ]
    },
    {
      "cell_type": "markdown",
      "source": [
        "19. Write a Python program to train a Decision Tree Regressor on a housing dataset and evaluate using Mean Squared Error (MSE)."
      ],
      "metadata": {
        "id": "ikVo9IxlxZrb"
      }
    },
    {
      "cell_type": "code",
      "source": [
        "import pandas as pd\n",
        "from sklearn.model_selection import train_test_split\n",
        "from sklearn.tree import DecisionTreeRegressor\n",
        "from sklearn.metrics import mean_squared_error\n",
        "from sklearn.datasets import fetch_california_housing\n",
        "\n",
        "# Load dataset\n",
        "data = fetch_california_housing()\n",
        "X = pd.DataFrame(data.data, columns=data.feature_names)\n",
        "y = pd.Series(data.target)\n",
        "\n",
        "# Split dataset\n",
        "X_train, X_test, y_train, y_test = train_test_split(X, y, test_size=0.2, random_state=42)\n",
        "\n",
        "# Train Decision Tree Regressor\n",
        "model = DecisionTreeRegressor()\n",
        "model.fit(X_train, y_train)\n",
        "\n",
        "# Predict and print Mean Squared Error\n",
        "predictions = model.predict(X_test)\n",
        "print(\"Mean Squared Error:\", mean_squared_error(y_test, predictions))\n"
      ],
      "metadata": {
        "colab": {
          "base_uri": "https://localhost:8080/"
        },
        "id": "_UPd6D-hxb-w",
        "outputId": "c7dc3b5d-e0f0-4b57-fd35-25aab5a51614"
      },
      "execution_count": 4,
      "outputs": [
        {
          "output_type": "stream",
          "name": "stdout",
          "text": [
            "Mean Squared Error: 0.5015952315738614\n"
          ]
        }
      ]
    },
    {
      "cell_type": "markdown",
      "source": [
        "20. Write a Python program to train a Decision Tree Classifier and visualize the tree using graphviz."
      ],
      "metadata": {
        "id": "N8ks_zEyxe2v"
      }
    },
    {
      "cell_type": "code",
      "source": [
        "import pandas as pd\n",
        "import graphviz\n",
        "from sklearn.model_selection import train_test_split\n",
        "from sklearn.tree import DecisionTreeClassifier, export_graphviz\n",
        "from sklearn.datasets import load_iris\n",
        "\n",
        "# Load dataset\n",
        "data = load_iris()\n",
        "X = pd.DataFrame(data.data, columns=data.feature_names)\n",
        "y = pd.Series(data.target)\n",
        "\n",
        "# Split dataset\n",
        "X_train, X_test, y_train, y_test = train_test_split(X, y, test_size=0.2, random_state=42)\n",
        "\n",
        "# Train Decision Tree Classifier\n",
        "model = DecisionTreeClassifier()\n",
        "model.fit(X_train, y_train)\n",
        "\n",
        "# Export tree to Graphviz\n",
        "dot_data = export_graphviz(model, feature_names=X.columns, class_names=data.target_names, filled=True)\n",
        "graph = graphviz.Source(dot_data)\n",
        "graph.render(\"decision_tree\")  # Saves tree visualization\n"
      ],
      "metadata": {
        "colab": {
          "base_uri": "https://localhost:8080/",
          "height": 36
        },
        "id": "t-wJUQDFxjfD",
        "outputId": "0b37834f-ee72-4cfc-87e0-75a01100fbb2"
      },
      "execution_count": 5,
      "outputs": [
        {
          "output_type": "execute_result",
          "data": {
            "text/plain": [
              "'decision_tree.pdf'"
            ],
            "application/vnd.google.colaboratory.intrinsic+json": {
              "type": "string"
            }
          },
          "metadata": {},
          "execution_count": 5
        }
      ]
    },
    {
      "cell_type": "markdown",
      "source": [
        "21. Write a Python program to train a Decision Tree Classifier with a maximum depth of 3 and compare its accuracy with a fully grown tree."
      ],
      "metadata": {
        "id": "nx8fnH19xmbr"
      }
    },
    {
      "cell_type": "code",
      "source": [
        "from sklearn.datasets import load_wine\n",
        "\n",
        "# Load dataset\n",
        "data = load_wine()\n",
        "X = pd.DataFrame(data.data, columns=data.feature_names)\n",
        "y = pd.Series(data.target)\n",
        "\n",
        "# Split dataset\n",
        "X_train, X_test, y_train, y_test = train_test_split(X, y, test_size=0.2, random_state=42)\n",
        "\n",
        "# Train Decision Tree with max_depth=3\n",
        "model_limited = DecisionTreeClassifier(max_depth=3)\n",
        "model_limited.fit(X_train, y_train)\n",
        "predictions_limited = model_limited.predict(X_test)\n",
        "\n",
        "# Train fully grown Decision Tree\n",
        "model_full = DecisionTreeClassifier()\n",
        "model_full.fit(X_train, y_train)\n",
        "predictions_full = model_full.predict(X_test)\n",
        "\n",
        "# Print accuracy comparison\n",
        "print(\"Accuracy with max_depth=3:\", accuracy_score(y_test, predictions_limited))\n",
        "print(\"Accuracy with fully grown tree:\", accuracy_score(y_test, predictions_full))\n",
        "\n"
      ],
      "metadata": {
        "colab": {
          "base_uri": "https://localhost:8080/"
        },
        "id": "INI57f94xp2J",
        "outputId": "e08f1722-517c-419f-93a5-5854e60b6502"
      },
      "execution_count": 6,
      "outputs": [
        {
          "output_type": "stream",
          "name": "stdout",
          "text": [
            "Accuracy with max_depth=3: 0.9444444444444444\n",
            "Accuracy with fully grown tree: 0.9444444444444444\n"
          ]
        }
      ]
    },
    {
      "cell_type": "markdown",
      "source": [
        "22. Write a Python program to train a Decision Tree Classifier using min_samples_split=5 and compare its accuracy with a default tree."
      ],
      "metadata": {
        "id": "Svx-6-3Yxs84"
      }
    },
    {
      "cell_type": "code",
      "source": [
        "import pandas as pd\n",
        "from sklearn.model_selection import train_test_split\n",
        "from sklearn.tree import DecisionTreeClassifier\n",
        "from sklearn.metrics import accuracy_score\n",
        "from sklearn.datasets import load_digits\n",
        "\n",
        "# Load dataset\n",
        "data = load_digits()\n",
        "X = pd.DataFrame(data.data)\n",
        "y = pd.Series(data.target % 2)  # Convert to binary classification\n",
        "\n",
        "# Split dataset\n",
        "X_train, X_test, y_train, y_test = train_test_split(X, y, test_size=0.2, random_state=42)\n",
        "\n",
        "# Train Decision Tree with min_samples_split=5\n",
        "model_limited = DecisionTreeClassifier(min_samples_split=5)\n",
        "model_limited.fit(X_train, y_train)\n",
        "predictions_limited = model_limited.predict(X_test)\n",
        "\n",
        "# Train default Decision Tree\n",
        "model_default = DecisionTreeClassifier()\n",
        "model_default.fit(X_train, y_train)\n",
        "predictions_default = model_default.predict(X_test)\n",
        "\n",
        "# Print accuracy comparison\n",
        "print(\"Accuracy with min_samples_split=5:\", accuracy_score(y_test, predictions_limited))\n",
        "print(\"Accuracy with default tree:\", accuracy_score(y_test, predictions_default))\n"
      ],
      "metadata": {
        "colab": {
          "base_uri": "https://localhost:8080/"
        },
        "id": "DyV0EzfLxwgo",
        "outputId": "57176eb0-1748-4b2d-d83c-1fef822ed35f"
      },
      "execution_count": 7,
      "outputs": [
        {
          "output_type": "stream",
          "name": "stdout",
          "text": [
            "Accuracy with min_samples_split=5: 0.9305555555555556\n",
            "Accuracy with default tree: 0.9388888888888889\n"
          ]
        }
      ]
    },
    {
      "cell_type": "markdown",
      "source": [
        "23. Write a Python program to apply feature scaling before training a Decision Tree Classifier and compare its accuracy with unscaled data."
      ],
      "metadata": {
        "id": "nPUFWzvyxy37"
      }
    },
    {
      "cell_type": "code",
      "source": [
        "import pandas as pd\n",
        "from sklearn.model_selection import train_test_split\n",
        "from sklearn.preprocessing import StandardScaler\n",
        "from sklearn.tree import DecisionTreeClassifier\n",
        "from sklearn.metrics import accuracy_score\n",
        "from sklearn.datasets import load_iris\n",
        "\n",
        "# Load dataset\n",
        "data = load_iris()\n",
        "X = pd.DataFrame(data.data, columns=data.feature_names)\n",
        "y = pd.Series(data.target)\n",
        "\n",
        "# Split dataset\n",
        "X_train, X_test, y_train, y_test = train_test_split(X, y, test_size=0.2, random_state=42)\n",
        "\n",
        "# Train Decision Tree on unscaled data\n",
        "model_unscaled = DecisionTreeClassifier()\n",
        "model_unscaled.fit(X_train, y_train)\n",
        "predictions_unscaled = model_unscaled.predict(X_test)\n",
        "\n",
        "# Apply feature scaling\n",
        "scaler = StandardScaler()\n",
        "X_train_scaled = scaler.fit_transform(X_train)\n",
        "X_test_scaled = scaler.transform(X_test)\n",
        "\n",
        "# Train Decision Tree on scaled data\n",
        "model_scaled = DecisionTreeClassifier()\n",
        "model_scaled.fit(X_train_scaled, y_train)\n",
        "predictions_scaled = model_scaled.predict(X_test_scaled)\n",
        "\n",
        "# Print accuracy comparison\n",
        "print(\"Accuracy without scaling:\", accuracy_score(y_test, predictions_unscaled))\n",
        "print(\"Accuracy with scaling:\", accuracy_score(y_test, predictions_scaled))\n"
      ],
      "metadata": {
        "colab": {
          "base_uri": "https://localhost:8080/"
        },
        "id": "yG984jxLx1kJ",
        "outputId": "f01a2d84-0303-4acd-dc18-4306960a7f85"
      },
      "execution_count": 8,
      "outputs": [
        {
          "output_type": "stream",
          "name": "stdout",
          "text": [
            "Accuracy without scaling: 1.0\n",
            "Accuracy with scaling: 1.0\n"
          ]
        }
      ]
    },
    {
      "cell_type": "markdown",
      "source": [
        "24. Write a Python program to train a Decision Tree Classifier using One-vs-Rest (OvR) strategy for multiclass classification."
      ],
      "metadata": {
        "id": "ZMb42jg4x4nJ"
      }
    },
    {
      "cell_type": "code",
      "source": [
        "import pandas as pd\n",
        "from sklearn.model_selection import train_test_split\n",
        "from sklearn.tree import DecisionTreeClassifier\n",
        "from sklearn.multiclass import OneVsRestClassifier\n",
        "from sklearn.datasets import load_wine\n",
        "from sklearn.metrics import accuracy_score\n",
        "\n",
        "# Load dataset\n",
        "data = load_wine()\n",
        "X = pd.DataFrame(data.data, columns=data.feature_names)\n",
        "y = pd.Series(data.target)\n",
        "\n",
        "# Split dataset\n",
        "X_train, X_test, y_train, y_test = train_test_split(X, y, test_size=0.2, random_state=42)\n",
        "\n",
        "# Train One-vs-Rest Decision Tree Classifier\n",
        "model = OneVsRestClassifier(DecisionTreeClassifier())\n",
        "model.fit(X_train, y_train)\n",
        "\n",
        "# Predict and print accuracy\n",
        "predictions = model.predict(X_test)\n",
        "print(\"One-vs-Rest Decision Tree Accuracy:\", accuracy_score(y_test, predictions))\n"
      ],
      "metadata": {
        "colab": {
          "base_uri": "https://localhost:8080/"
        },
        "id": "7b0TXJwEx6_9",
        "outputId": "0c496bdc-9167-4a89-8976-7a18405af9e3"
      },
      "execution_count": 9,
      "outputs": [
        {
          "output_type": "stream",
          "name": "stdout",
          "text": [
            "One-vs-Rest Decision Tree Accuracy: 0.9444444444444444\n"
          ]
        }
      ]
    },
    {
      "cell_type": "markdown",
      "source": [
        "25. Write a Python program to train a Decision Tree Classifier and display the feature importance scores."
      ],
      "metadata": {
        "id": "wyYpOwrIx9q2"
      }
    },
    {
      "cell_type": "code",
      "source": [
        "import pandas as pd\n",
        "import numpy as np\n",
        "import matplotlib.pyplot as plt\n",
        "from sklearn.model_selection import train_test_split\n",
        "from sklearn.tree import DecisionTreeClassifier\n",
        "from sklearn.datasets import load_iris\n",
        "\n",
        "# Load dataset\n",
        "data = load_iris()\n",
        "X = pd.DataFrame(data.data, columns=data.feature_names)\n",
        "y = pd.Series(data.target)\n",
        "\n",
        "# Split dataset\n",
        "X_train, X_test, y_train, y_test = train_test_split(X, y, test_size=0.2, random_state=42)\n",
        "\n",
        "# Train Decision Tree Classifier\n",
        "model = DecisionTreeClassifier()\n",
        "model.fit(X_train, y_train)\n",
        "\n",
        "# Get feature importance\n",
        "importances = model.feature_importances_\n",
        "\n",
        "# Plot feature importance\n",
        "plt.figure(figsize=(8, 5))\n",
        "plt.barh(X.columns, importances, color=\"skyblue\")\n",
        "plt.xlabel(\"Feature Importance\")\n",
        "plt.ylabel(\"Feature Name\")\n",
        "plt.title(\"Feature Importance in Decision Tree\")\n",
        "plt.show()\n"
      ],
      "metadata": {
        "colab": {
          "base_uri": "https://localhost:8080/",
          "height": 487
        },
        "id": "5Yklz97kx_nf",
        "outputId": "6915c0e3-e164-4e55-aaed-a1a37ef9552c"
      },
      "execution_count": 10,
      "outputs": [
        {
          "output_type": "display_data",
          "data": {
            "text/plain": [
              "<Figure size 800x500 with 1 Axes>"
            ],
            "image/png": "[encoded data removed]"
          },
          "metadata": {}
        }
      ]
    },
    {
      "cell_type": "markdown",
      "source": [
        "26. Write a Python program to train a Decision Tree Regressor with max_depth=5 and compare its performance with an unrestricted tree."
      ],
      "metadata": {
        "id": "D1suUNqnyDUp"
      }
    },
    {
      "cell_type": "code",
      "source": [
        "import pandas as pd\n",
        "from sklearn.model_selection import train_test_split\n",
        "from sklearn.tree import DecisionTreeRegressor\n",
        "from sklearn.metrics import mean_squared_error\n",
        "from sklearn.datasets import fetch_california_housing\n",
        "\n",
        "# Load dataset\n",
        "data = fetch_california_housing()\n",
        "X = pd.DataFrame(data.data, columns=data.feature_names)\n",
        "y = pd.Series(data.target)\n",
        "\n",
        "# Split dataset\n",
        "X_train, X_test, y_train, y_test = train_test_split(X, y, test_size=0.2, random_state=42)\n",
        "\n",
        "# Train Decision Tree Regressor with max_depth=5\n",
        "model_limited = DecisionTreeRegressor(max_depth=5)\n",
        "model_limited.fit(X_train, y_train)\n",
        "predictions_limited = model_limited.predict(X_test)\n",
        "\n",
        "# Train unrestricted Decision Tree Regressor\n",
        "model_full = DecisionTreeRegressor()\n",
        "model_full.fit(X_train, y_train)\n",
        "predictions_full = model_full.predict(X_test)\n",
        "\n",
        "# Print MSE comparison\n",
        "print(\"MSE with max_depth=5:\", mean_squared_error(y_test, predictions_limited))\n",
        "print(\"MSE with fully grown tree:\", mean_squared_error(y_test, predictions_full))\n"
      ],
      "metadata": {
        "colab": {
          "base_uri": "https://localhost:8080/"
        },
        "id": "1O2gzXJzyF1p",
        "outputId": "7de609a0-2f2d-4edc-9c06-506e72ea35d5"
      },
      "execution_count": 11,
      "outputs": [
        {
          "output_type": "stream",
          "name": "stdout",
          "text": [
            "MSE with max_depth=5: 0.5245146178314735\n",
            "MSE with fully grown tree: 0.5008548678818798\n"
          ]
        }
      ]
    },
    {
      "cell_type": "markdown",
      "source": [
        "27. Write a Python program to train a Decision Tree Classifier, apply Cost Complexity Pruning (CCP), and visualize its effect on accuracy."
      ],
      "metadata": {
        "id": "Y31SS2anyImF"
      }
    },
    {
      "cell_type": "code",
      "source": [
        "import pandas as pd\n",
        "import numpy as np\n",
        "import matplotlib.pyplot as plt\n",
        "from sklearn.model_selection import train_test_split\n",
        "from sklearn.tree import DecisionTreeClassifier\n",
        "from sklearn.datasets import load_wine\n",
        "\n",
        "# Load dataset\n",
        "data = load_wine()\n",
        "X = pd.DataFrame(data.data, columns=data.feature_names)\n",
        "y = pd.Series(data.target)\n",
        "\n",
        "# Split dataset\n",
        "X_train, X_test, y_train, y_test = train_test_split(X, y, test_size=0.2, random_state=42)\n",
        "\n",
        "# Train a Decision Tree Classifier without pruning\n",
        "base_model = DecisionTreeClassifier(random_state=42)\n",
        "base_model.fit(X_train, y_train)\n",
        "\n",
        "# Get the Cost Complexity Pruning Path\n",
        "path = base_model.cost_complexity_pruning_path(X_train, y_train)\n",
        "ccp_alphas = path.ccp_alphas  # Extract alpha values\n",
        "\n",
        "# **Filter out invalid CCP alpha values**\n",
        "ccp_alphas = np.unique(ccp_alphas)  # Remove duplicates\n",
        "ccp_alphas = ccp_alphas[ccp_alphas > 0]  # Ensure positive values only\n",
        "\n",
        "# Train models with different alpha values\n",
        "train_scores = []\n",
        "test_scores = []\n",
        "\n",
        "for alpha in ccp_alphas:\n",
        "    model = DecisionTreeClassifier(ccp_alpha=alpha, random_state=42)\n",
        "    model.fit(X_train, y_train)\n",
        "    train_scores.append(model.score(X_train, y_train))\n",
        "    test_scores.append(model.score(X_test, y_test))\n",
        "\n",
        "# **Plot the effect of pruning on accuracy**\n",
        "plt.figure(figsize=(8, 5))\n",
        "plt.plot(ccp_alphas, train_scores, marker='o', label=\"Train Accuracy\", linestyle='dashed')\n",
        "plt.plot(ccp_alphas, test_scores, marker='o', label=\"Test Accuracy\", linestyle='solid')\n",
        "plt.xlabel(\"CCP Alpha (Pruning Strength)\")\n",
        "plt.ylabel(\"Accuracy\")\n",
        "plt.title(\"Effect of Cost Complexity Pruning on Accuracy\")\n",
        "plt.legend()\n",
        "plt.show()\n",
        "\n"
      ],
      "metadata": {
        "colab": {
          "base_uri": "https://localhost:8080/",
          "height": 487
        },
        "id": "kT6IxoqWyLg3",
        "outputId": "b5d84e92-8c10-4ed4-b70e-bf3d0ddbe4a9"
      },
      "execution_count": 12,
      "outputs": [
        {
          "output_type": "display_data",
          "data": {
            "text/plain": [
              "<Figure size 800x500 with 1 Axes>"
            ],
            "image/png": "[encoded data removed]"
          },
          "metadata": {}
        }
      ]
    },
    {
      "cell_type": "markdown",
      "source": [
        "28. Write a Python program to train a Decision Tree Classifier and evaluate its performance using Precision, Recall, and F1-Score."
      ],
      "metadata": {
        "id": "v9Ebag0tyOjY"
      }
    },
    {
      "cell_type": "code",
      "source": [
        "import pandas as pd\n",
        "from sklearn.model_selection import train_test_split\n",
        "from sklearn.tree import DecisionTreeClassifier\n",
        "from sklearn.metrics import precision_score, recall_score, f1_score\n",
        "from sklearn.datasets import load_digits\n",
        "\n",
        "# Load dataset\n",
        "data = load_digits()\n",
        "X = pd.DataFrame(data.data)\n",
        "y = pd.Series(data.target % 2)  # Convert to binary classification\n",
        "\n",
        "# Split dataset\n",
        "X_train, X_test, y_train, y_test = train_test_split(X, y, test_size=0.2, random_state=42)\n",
        "\n",
        "# Train Decision Tree Classifier\n",
        "model = DecisionTreeClassifier()\n",
        "model.fit(X_train, y_train)\n",
        "\n",
        "# Predict and evaluate\n",
        "y_pred = model.predict(X_test)\n",
        "print(\"Precision:\", precision_score(y_test, y_pred))\n",
        "print(\"Recall:\", recall_score(y_test, y_pred))\n",
        "print(\"F1-Score:\", f1_score(y_test, y_pred))\n"
      ],
      "metadata": {
        "colab": {
          "base_uri": "https://localhost:8080/"
        },
        "id": "PTN9X9UPyRAe",
        "outputId": "42b88376-71b7-44fc-a061-269d26b583ea"
      },
      "execution_count": 13,
      "outputs": [
        {
          "output_type": "stream",
          "name": "stdout",
          "text": [
            "Precision: 0.9128205128205128\n",
            "Recall: 0.9726775956284153\n",
            "F1-Score: 0.9417989417989417\n"
          ]
        }
      ]
    },
    {
      "cell_type": "markdown",
      "source": [
        "29. Write a Python program to train a Decision Tree Classifier and visualize the confusion matrix using seaborn."
      ],
      "metadata": {
        "id": "yQZclsblyhV_"
      }
    },
    {
      "cell_type": "code",
      "source": [
        "import pandas as pd\n",
        "import seaborn as sns\n",
        "import matplotlib.pyplot as plt\n",
        "from sklearn.model_selection import train_test_split\n",
        "from sklearn.tree import DecisionTreeClassifier\n",
        "from sklearn.metrics import confusion_matrix\n",
        "from sklearn.datasets import load_breast_cancer\n",
        "\n",
        "# Load dataset\n",
        "data = load_breast_cancer()\n",
        "X = pd.DataFrame(data.data, columns=data.feature_names)\n",
        "y = pd.Series(data.target)\n",
        "\n",
        "# Split dataset\n",
        "X_train, X_test, y_train, y_test = train_test_split(X, y, test_size=0.2, random_state=42)\n",
        "\n",
        "# Train Decision Tree Classifier\n",
        "model = DecisionTreeClassifier()\n",
        "model.fit(X_train, y_train)\n",
        "\n",
        "# Predict and compute confusion matrix\n",
        "y_pred = model.predict(X_test)\n",
        "cm = confusion_matrix(y_test, y_pred)\n",
        "\n",
        "# Plot the confusion matrix\n",
        "plt.figure(figsize=(5, 4))\n",
        "sns.heatmap(cm, annot=True, fmt=\"d\", cmap=\"Blues\")\n",
        "plt.xlabel(\"Predicted Label\")\n",
        "plt.ylabel(\"True Label\")\n",
        "plt.title(\"Confusion Matrix\")\n",
        "plt.show()\n"
      ],
      "metadata": {
        "colab": {
          "base_uri": "https://localhost:8080/",
          "height": 410
        },
        "id": "M2OitoJFzgdL",
        "outputId": "ab2d442a-ce14-4aae-94ea-75fb1065e415"
      },
      "execution_count": 14,
      "outputs": [
        {
          "output_type": "display_data",
          "data": {
            "text/plain": [
              "<Figure size 500x400 with 2 Axes>"
            ],
            "image/png": "[encoded data removed]"
          },
          "metadata": {}
        }
      ]
    },
    {
      "cell_type": "markdown",
      "source": [
        "30. Write a Python program to train a Decision Tree Classifier and use GridSearchCV to find the optimal values for max_depth and min_samples_split."
      ],
      "metadata": {
        "id": "BDacJv4QzjvN"
      }
    },
    {
      "cell_type": "code",
      "source": [
        "import pandas as pd\n",
        "from sklearn.model_selection import train_test_split, GridSearchCV\n",
        "from sklearn.tree import DecisionTreeClassifier\n",
        "from sklearn.datasets import load_wine\n",
        "from sklearn.metrics import accuracy_score\n",
        "\n",
        "# Load dataset\n",
        "data = load_wine()\n",
        "X = pd.DataFrame(data.data, columns=data.feature_names)\n",
        "y = pd.Series(data.target)\n",
        "\n",
        "# Split dataset\n",
        "X_train, X_test, y_train, y_test = train_test_split(X, y, test_size=0.2, random_state=42)\n",
        "\n",
        "# Define hyperparameter grid\n",
        "param_grid = {\n",
        "    'max_depth': [3, 5, 10, None],\n",
        "    'min_samples_split': [2, 5, 10]\n",
        "}\n",
        "\n",
        "# Perform Grid Search\n",
        "grid_search = GridSearchCV(DecisionTreeClassifier(random_state=42), param_grid, cv=5)\n",
        "grid_search.fit(X_train, y_train)\n",
        "\n",
        "# Get best parameters and train best model\n",
        "best_model = grid_search.best_estimator_\n",
        "y_pred = best_model.predict(X_test)\n",
        "\n",
        "# Print best parameters and accuracy\n",
        "print(\"Best Parameters:\", grid_search.best_params_)\n",
        "print(\"Best Model Accuracy:\", accuracy_score(y_test, y_pred))\n",
        "\n"
      ],
      "metadata": {
        "colab": {
          "base_uri": "https://localhost:8080/"
        },
        "id": "STf0TDZQzl2X",
        "outputId": "082699c4-fb8f-407d-ee64-d96ab447ddc7"
      },
      "execution_count": 15,
      "outputs": [
        {
          "output_type": "stream",
          "name": "stdout",
          "text": [
            "Best Parameters: {'max_depth': 3, 'min_samples_split': 2}\n",
            "Best Model Accuracy: 0.9444444444444444\n"
          ]
        }
      ]
    }
  ]
}